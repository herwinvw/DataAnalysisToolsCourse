{
 "cells": [
  {
   "cell_type": "markdown",
   "metadata": {},
   "source": [
    "# Data analysis tools exercise 4: Testing a Potential Moderator"
   ]
  },
  {
   "cell_type": "markdown",
   "metadata": {},
   "source": [
    "## Dataset: Bike sharing\n",
    "I am using the bike sharing dataset of https://archive.ics.uci.edu/ml/datasets/Bike+Sharing+Dataset, which provides data on how many bikes are rent out on specific hours of specific days, the weather on these days, whether the day was a weekday or not, etc. The dataset contains information on 'registered' users and 'casual' users of the bike rental system."
   ]
  },
  {
   "cell_type": "markdown",
   "metadata": {},
   "source": [
    "## Research question\n",
    "\n",
    "In the first exercise I showed that the number of bikes rented out differs significantly between all pairs of seasons. \n",
    "Here I want to see if whether users are casual (assumed to be using bikes mostly for leasure) or registered (assumed to be \n",
    "using bikes mostly to commute) is a moderator for this association. "
   ]
  },
  {
   "cell_type": "code",
   "execution_count": 6,
   "metadata": {
    "collapsed": false
   },
   "outputs": [
    {
     "data": {
      "text/html": [
       "<div>\n",
       "<table border=\"1\" class=\"dataframe\">\n",
       "  <thead>\n",
       "    <tr style=\"text-align: right;\">\n",
       "      <th></th>\n",
       "      <th>instant</th>\n",
       "      <th>dteday</th>\n",
       "      <th>season</th>\n",
       "      <th>yr</th>\n",
       "      <th>mnth</th>\n",
       "      <th>holiday</th>\n",
       "      <th>weekday</th>\n",
       "      <th>workingday</th>\n",
       "      <th>weathersit</th>\n",
       "      <th>temp</th>\n",
       "      <th>atemp</th>\n",
       "      <th>hum</th>\n",
       "      <th>windspeed</th>\n",
       "      <th>casual</th>\n",
       "      <th>registered</th>\n",
       "      <th>cnt</th>\n",
       "    </tr>\n",
       "  </thead>\n",
       "  <tbody>\n",
       "    <tr>\n",
       "      <th>0</th>\n",
       "      <td>1</td>\n",
       "      <td>2011-01-01</td>\n",
       "      <td>1</td>\n",
       "      <td>0</td>\n",
       "      <td>1</td>\n",
       "      <td>0</td>\n",
       "      <td>6</td>\n",
       "      <td>0</td>\n",
       "      <td>2</td>\n",
       "      <td>0.344167</td>\n",
       "      <td>0.363625</td>\n",
       "      <td>0.805833</td>\n",
       "      <td>0.160446</td>\n",
       "      <td>331</td>\n",
       "      <td>654</td>\n",
       "      <td>985</td>\n",
       "    </tr>\n",
       "    <tr>\n",
       "      <th>1</th>\n",
       "      <td>2</td>\n",
       "      <td>2011-01-02</td>\n",
       "      <td>1</td>\n",
       "      <td>0</td>\n",
       "      <td>1</td>\n",
       "      <td>0</td>\n",
       "      <td>0</td>\n",
       "      <td>0</td>\n",
       "      <td>2</td>\n",
       "      <td>0.363478</td>\n",
       "      <td>0.353739</td>\n",
       "      <td>0.696087</td>\n",
       "      <td>0.248539</td>\n",
       "      <td>131</td>\n",
       "      <td>670</td>\n",
       "      <td>801</td>\n",
       "    </tr>\n",
       "    <tr>\n",
       "      <th>2</th>\n",
       "      <td>3</td>\n",
       "      <td>2011-01-03</td>\n",
       "      <td>1</td>\n",
       "      <td>0</td>\n",
       "      <td>1</td>\n",
       "      <td>0</td>\n",
       "      <td>1</td>\n",
       "      <td>1</td>\n",
       "      <td>1</td>\n",
       "      <td>0.196364</td>\n",
       "      <td>0.189405</td>\n",
       "      <td>0.437273</td>\n",
       "      <td>0.248309</td>\n",
       "      <td>120</td>\n",
       "      <td>1229</td>\n",
       "      <td>1349</td>\n",
       "    </tr>\n",
       "    <tr>\n",
       "      <th>3</th>\n",
       "      <td>4</td>\n",
       "      <td>2011-01-04</td>\n",
       "      <td>1</td>\n",
       "      <td>0</td>\n",
       "      <td>1</td>\n",
       "      <td>0</td>\n",
       "      <td>2</td>\n",
       "      <td>1</td>\n",
       "      <td>1</td>\n",
       "      <td>0.200000</td>\n",
       "      <td>0.212122</td>\n",
       "      <td>0.590435</td>\n",
       "      <td>0.160296</td>\n",
       "      <td>108</td>\n",
       "      <td>1454</td>\n",
       "      <td>1562</td>\n",
       "    </tr>\n",
       "    <tr>\n",
       "      <th>4</th>\n",
       "      <td>5</td>\n",
       "      <td>2011-01-05</td>\n",
       "      <td>1</td>\n",
       "      <td>0</td>\n",
       "      <td>1</td>\n",
       "      <td>0</td>\n",
       "      <td>3</td>\n",
       "      <td>1</td>\n",
       "      <td>1</td>\n",
       "      <td>0.226957</td>\n",
       "      <td>0.229270</td>\n",
       "      <td>0.436957</td>\n",
       "      <td>0.186900</td>\n",
       "      <td>82</td>\n",
       "      <td>1518</td>\n",
       "      <td>1600</td>\n",
       "    </tr>\n",
       "  </tbody>\n",
       "</table>\n",
       "</div>"
      ],
      "text/plain": [
       "   instant      dteday  season  yr  mnth  holiday  weekday  workingday  \\\n",
       "0        1  2011-01-01       1   0     1        0        6           0   \n",
       "1        2  2011-01-02       1   0     1        0        0           0   \n",
       "2        3  2011-01-03       1   0     1        0        1           1   \n",
       "3        4  2011-01-04       1   0     1        0        2           1   \n",
       "4        5  2011-01-05       1   0     1        0        3           1   \n",
       "\n",
       "   weathersit      temp     atemp       hum  windspeed  casual  registered  \\\n",
       "0           2  0.344167  0.363625  0.805833   0.160446     331         654   \n",
       "1           2  0.363478  0.353739  0.696087   0.248539     131         670   \n",
       "2           1  0.196364  0.189405  0.437273   0.248309     120        1229   \n",
       "3           1  0.200000  0.212122  0.590435   0.160296     108        1454   \n",
       "4           1  0.226957  0.229270  0.436957   0.186900      82        1518   \n",
       "\n",
       "    cnt  \n",
       "0   985  \n",
       "1   801  \n",
       "2  1349  \n",
       "3  1562  \n",
       "4  1600  "
      ]
     },
     "execution_count": 6,
     "metadata": {},
     "output_type": "execute_result"
    }
   ],
   "source": [
    "%matplotlib inline\n",
    "import numpy\n",
    "import pandas\n",
    "import scipy.stats\n",
    "import statsmodels.formula.api as smf\n",
    "import statsmodels.stats.multicomp as multi \n",
    "import matplotlib.pyplot as plt\n",
    "\n",
    "data = pandas.read_csv('day.csv', low_memory=False)\n",
    "data.head()"
   ]
  },
  {
   "cell_type": "code",
   "execution_count": 20,
   "metadata": {
    "collapsed": false
   },
   "outputs": [
    {
     "name": "stdout",
     "output_type": "stream",
     "text": [
      "                    cnt       casual   registered\n",
      "seasonname                                       \n",
      "1-Winter    2747.629834   269.049724  2478.580110\n",
      "2-Spring    4509.239130   981.146739  3528.092391\n",
      "3-Summer    5665.673913  1217.945652  4447.728261\n",
      "4-Fall      5072.384615   915.857143  4156.527473\n"
     ]
    }
   ],
   "source": [
    "#The season variable in the data is just the number of the quartal, so I recode my own from the month\n",
    "recode = {1:\"1-Winter\",2:\"1-Winter\",3:\"2-Spring\",4:\"2-Spring\",5:\"2-Spring\",6:\"3-Summer\",7:\"3-Summer\",8:\"3-Summer\",9:\"4-Fall\",10:\"4-Fall\",11:\"4-Fall\",12:\"1-Winter\"}\n",
    "data['seasonname'] = data['mnth'].map(recode)\n",
    "sub=data[['seasonname','cnt','casual','registered']]\n",
    "ct = sub.groupby('seasonname').mean()\n",
    "print (ct)"
   ]
  },
  {
   "cell_type": "code",
   "execution_count": 27,
   "metadata": {
    "collapsed": false
   },
   "outputs": [
    {
     "data": {
      "image/png": "[encoded data removed]",
      "text/plain": [
       "<matplotlib.figure.Figure at 0xb9a5d30>"
      ]
     },
     "metadata": {},
     "output_type": "display_data"
    }
   ],
   "source": [
    "ct.plot(kind='bar');"
   ]
  },
  {
   "cell_type": "code",
   "execution_count": 22,
   "metadata": {
    "collapsed": false
   },
   "outputs": [
    {
     "name": "stdout",
     "output_type": "stream",
     "text": [
      "                            OLS Regression Results                            \n",
      "==============================================================================\n",
      "Dep. Variable:                 casual   R-squared:                       0.261\n",
      "Model:                            OLS   Adj. R-squared:                  0.258\n",
      "Method:                 Least Squares   F-statistic:                     85.75\n",
      "Date:                Sat, 30 Apr 2016   Prob (F-statistic):           1.65e-47\n",
      "Time:                        12:01:52   Log-Likelihood:                -5700.8\n",
      "No. Observations:                 731   AIC:                         1.141e+04\n",
      "Df Residuals:                     727   BIC:                         1.143e+04\n",
      "Df Model:                           3                                         \n",
      "Covariance Type:            nonrobust                                         \n",
      "=============================================================================================\n",
      "                                coef    std err          t      P>|t|      [95.0% Conf. Int.]\n",
      "---------------------------------------------------------------------------------------------\n",
      "Intercept                   269.0497     43.953      6.121      0.000       182.760   355.340\n",
      "C(seasonname)[T.2-Spring]   712.0970     61.905     11.503      0.000       590.563   833.631\n",
      "C(seasonname)[T.3-Summer]   948.8959     61.905     15.328      0.000       827.362  1070.430\n",
      "C(seasonname)[T.4-Fall]     646.8074     62.073     10.420      0.000       524.943   768.672\n",
      "==============================================================================\n",
      "Omnibus:                      190.891   Durbin-Watson:                   0.996\n",
      "Prob(Omnibus):                  0.000   Jarque-Bera (JB):              408.742\n",
      "Skew:                           1.434   Prob(JB):                     1.75e-89\n",
      "Kurtosis:                       5.278   Cond. No.                         4.81\n",
      "==============================================================================\n",
      "\n",
      "Warnings:\n",
      "[1] Standard Errors assume that the covariance matrix of the errors is correctly specified.\n"
     ]
    }
   ],
   "source": [
    "model = smf.ols(formula='casual ~ C(seasonname)', data=sub)\n",
    "results = model.fit()\n",
    "print (results.summary())"
   ]
  },
  {
   "cell_type": "code",
   "execution_count": 23,
   "metadata": {
    "collapsed": false
   },
   "outputs": [
    {
     "name": "stdout",
     "output_type": "stream",
     "text": [
      "                            OLS Regression Results                            \n",
      "==============================================================================\n",
      "Dep. Variable:             registered   R-squared:                       0.233\n",
      "Model:                            OLS   Adj. R-squared:                  0.230\n",
      "Method:                 Least Squares   F-statistic:                     73.80\n",
      "Date:                Sat, 30 Apr 2016   Prob (F-statistic):           1.12e-41\n",
      "Time:                        12:01:55   Log-Likelihood:                -6314.3\n",
      "No. Observations:                 731   AIC:                         1.264e+04\n",
      "Df Residuals:                     727   BIC:                         1.266e+04\n",
      "Df Model:                           3                                         \n",
      "Covariance Type:            nonrobust                                         \n",
      "=============================================================================================\n",
      "                                coef    std err          t      P>|t|      [95.0% Conf. Int.]\n",
      "---------------------------------------------------------------------------------------------\n",
      "Intercept                  2478.5801    101.747     24.360      0.000      2278.827  2678.333\n",
      "C(seasonname)[T.2-Spring]  1049.5123    143.304      7.324      0.000       768.173  1330.852\n",
      "C(seasonname)[T.3-Summer]  1969.1482    143.304     13.741      0.000      1687.809  2250.487\n",
      "C(seasonname)[T.4-Fall]    1677.9474    143.694     11.677      0.000      1395.843  1960.052\n",
      "==============================================================================\n",
      "Omnibus:                       34.592   Durbin-Watson:                   0.439\n",
      "Prob(Omnibus):                  0.000   Jarque-Bera (JB):               16.131\n",
      "Skew:                           0.136   Prob(JB):                     0.000314\n",
      "Kurtosis:                       2.325   Cond. No.                         4.81\n",
      "==============================================================================\n",
      "\n",
      "Warnings:\n",
      "[1] Standard Errors assume that the covariance matrix of the errors is correctly specified.\n"
     ]
    }
   ],
   "source": [
    "model = smf.ols(formula='registered ~ C(seasonname)', data=sub)\n",
    "results = model.fit()\n",
    "print (results.summary())"
   ]
  },
  {
   "cell_type": "markdown",
   "metadata": {},
   "source": [
    "## Result of ANOVA\n",
    "ANOVA shows that there is a significant difference in the mean number of rented out bikes in the different seasons for both casual and registered users, so I do posthoc tests to figure out which difference exactly."
   ]
  },
  {
   "cell_type": "code",
   "execution_count": 24,
   "metadata": {
    "collapsed": false
   },
   "outputs": [
    {
     "name": "stdout",
     "output_type": "stream",
     "text": [
      "  Multiple Comparison of Means - Tukey HSD,FWER=0.05  \n",
      "======================================================\n",
      " group1   group2   meandiff   lower     upper   reject\n",
      "------------------------------------------------------\n",
      "1-Winter 2-Spring  712.097   552.6903  871.5037  True \n",
      "1-Winter 3-Summer  948.8959  789.4892 1108.3026  True \n",
      "1-Winter  4-Fall   646.8074  486.967   806.6479  True \n",
      "2-Spring 3-Summer  236.7989  78.0487   395.5492  True \n",
      "2-Spring  4-Fall   -65.2896 -224.4754  93.8962  False \n",
      "3-Summer  4-Fall  -302.0885 -461.2743 -142.9027  True \n",
      "------------------------------------------------------\n"
     ]
    }
   ],
   "source": [
    "mc = multi.MultiComparison(sub['casual'], sub['seasonname'])\n",
    "res = mc.tukeyhsd()\n",
    "print(res.summary())"
   ]
  },
  {
   "cell_type": "code",
   "execution_count": 25,
   "metadata": {
    "collapsed": false
   },
   "outputs": [
    {
     "name": "stdout",
     "output_type": "stream",
     "text": [
      "  Multiple Comparison of Means - Tukey HSD,FWER=0.05  \n",
      "======================================================\n",
      " group1   group2   meandiff   lower     upper   reject\n",
      "------------------------------------------------------\n",
      "1-Winter 2-Spring 1049.5123  680.5014 1418.5231  True \n",
      "1-Winter 3-Summer 1969.1482 1600.1373  2338.159  True \n",
      "1-Winter  4-Fall  1677.9474 1307.9325 2047.9623  True \n",
      "2-Spring 3-Summer  919.6359  552.1446 1287.1271  True \n",
      "2-Spring  4-Fall   628.4351  259.9356  996.9345  True \n",
      "3-Summer  4-Fall  -291.2008 -659.7002  77.2987  False \n",
      "------------------------------------------------------\n"
     ]
    }
   ],
   "source": [
    "mc = multi.MultiComparison(sub['registered'], sub['seasonname'])\n",
    "res = mc.tukeyhsd()\n",
    "print(res.summary())"
   ]
  },
  {
   "cell_type": "markdown",
   "metadata": {},
   "source": [
    "The posthoc tests for combined rental counts, for comparison"
   ]
  },
  {
   "cell_type": "code",
   "execution_count": 26,
   "metadata": {
    "collapsed": false
   },
   "outputs": [
    {
     "name": "stdout",
     "output_type": "stream",
     "text": [
      "   Multiple Comparison of Means - Tukey HSD,FWER=0.05  \n",
      "=======================================================\n",
      " group1   group2   meandiff   lower      upper   reject\n",
      "-------------------------------------------------------\n",
      "1-Winter 2-Spring 1761.6093 1328.7919  2194.4267  True \n",
      "1-Winter 3-Summer 2918.0441 2485.2266  3350.8615  True \n",
      "1-Winter  4-Fall  2324.7548 1890.7597  2758.7499  True \n",
      "2-Spring 3-Summer 1156.4348  725.3997  1587.4698  True \n",
      "2-Spring  4-Fall   563.1455  130.9279   995.3631  True \n",
      "3-Summer  4-Fall  -593.2893 -1025.5069 -161.0717  True \n",
      "-------------------------------------------------------\n"
     ]
    }
   ],
   "source": [
    "mc = multi.MultiComparison(sub['cnt'], sub['seasonname'])\n",
    "res = mc.tukeyhsd()\n",
    "print(res.summary())"
   ]
  },
  {
   "cell_type": "markdown",
   "metadata": {},
   "source": [
    "## Results\n",
    "For all season pairs but Spring-Fall and Summer-Fall, the kind of bike user does not seem to moderate the amount of bikes rent. \n",
    "\n",
    "The mean number of bikes rent by registered users is not significantly different in Summer and Fall. This difference is significant if we look at all bikes rent and casual bikes rent, so here bike rental by casual users contributes to make the overall difference stronger (and significant).\n",
    "\n",
    "The mean number of bikes rent by casual users is not significantly different in Spring and Fall. This difference is significant if we look at all bikes rent and registered bikes rent. Unlike registered users, casual users rent fewer rather than more bikes in fall than in spring (albeit not significantly so)."
   ]
  }
 ],
 "metadata": {
  "kernelspec": {
   "display_name": "Python 3",
   "language": "python",
   "name": "python3"
  },
  "language_info": {
   "codemirror_mode": {
    "name": "ipython",
    "version": 3
   },
   "file_extension": ".py",
   "mimetype": "text/x-python",
   "name": "python",
   "nbconvert_exporter": "python",
   "pygments_lexer": "ipython3",
   "version": "3.5.1"
  }
 },
 "nbformat": 4,
 "nbformat_minor": 0
}
